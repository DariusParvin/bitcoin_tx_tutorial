{
 "cells": [
  {
   "cell_type": "code",
   "execution_count": 14,
   "metadata": {
    "code_folding": [
     0
    ]
   },
   "outputs": [],
   "source": [
    "# Import libraries\n",
    "import base58\n",
    "import bech32\n",
    "import binascii\n",
    "import ecdsa\n",
    "import hashlib\n",
    "import json\n",
    "import os\n",
    "import subprocess\n",
    "import time"
   ]
  },
  {
   "cell_type": "code",
   "execution_count": 15,
   "metadata": {
    "code_folding": [
     0
    ]
   },
   "outputs": [],
   "source": [
    "# Useful functions\n",
    "\n",
    "def dSHA256(data):\n",
    "    '''Two rounds of SHA256 (aka Hash256)'''\n",
    "    hash_1 = hashlib.sha256(data).digest()\n",
    "    hash_2 = hashlib.sha256(hash_1).digest()\n",
    "    return hash_2\n",
    "\n",
    "def hash160(s):\n",
    "    '''sha256 followed by ripemd160'''\n",
    "    return hashlib.new('ripemd160', hashlib.sha256(s).digest()).digest()\n",
    "\n",
    "def privkey_to_pubkey(privkey):\n",
    "    '''Converts a private key (bytes) to a compressed pubkey (bytes)'''\n",
    "    signing_key = ecdsa.SigningKey.from_string(privkey, curve=ecdsa.SECP256k1) # Don't forget to specify the curve\n",
    "    verifying_key = signing_key.get_verifying_key()\n",
    "\n",
    "    # Use this code block if the address you gave corresponds to the compressed public key\n",
    "    x_cor = bytes.fromhex(verifying_key.to_string().hex())[:32] # The first 32 bytes are the x coordinate\n",
    "    y_cor = bytes.fromhex(verifying_key.to_string().hex())[32:] # The last 32 bytes are the y coordinate\n",
    "    if int.from_bytes(y_cor, byteorder=\"big\", signed=True) % 2 == 0: # We need to turn the y_cor into a number.\n",
    "        public_key = bytes.fromhex(\"02\" + x_cor.hex())\n",
    "    else:\n",
    "        public_key = bytes.fromhex(\"03\" + x_cor.hex())\n",
    "    return public_key\n",
    "\n",
    "def pk_to_p2wpkh(compressed, network):\n",
    "    '''generates a p2wpkh bech32 address corresponding to a compressed pubkey'''\n",
    "    pk_hash = hash160(compressed)\n",
    "    redeemScript = bytes.fromhex(f\"0014{pk_hash.hex()}\")\n",
    "    spk = binascii.unhexlify(redeemScript.hex())\n",
    "    version = spk[0] - 0x50 if spk[0] else 0\n",
    "    program = spk[2:]\n",
    "    if network == \"testnet\":\n",
    "        prefix = 'tb'\n",
    "    if network == \"regtest\":\n",
    "        prefix = 'bcrt'\n",
    "    elif network == \"simnet\":\n",
    "        prefix = 'sb'\n",
    "    elif network == \"mainnet\":\n",
    "        prefix = 'bc'\n",
    "    else:\n",
    "        return \"Enter the network: tesnet/simnet/mainnet\"\n",
    "    return bech32.encode(prefix, version, program)"
   ]
  },
  {
   "cell_type": "markdown",
   "metadata": {},
   "source": [
    "# Bitcoin Core Regtest P2WPKH tx Demo"
   ]
  },
  {
   "cell_type": "markdown",
   "metadata": {},
   "source": [
    "This notebook is starts up Bitcoin Core in regtest mode and walks through an example of creating and broadcasting a P2WPKH transaction with one input and two outputs. The transaction is generated using the ```P2WPKH_to_P2WPKH.py``` script.\n",
    "\n",
    "This demo assumes you have Bitcoin Core (v0.18 or higher) and that the application data is stored in \n",
    "```$HOME/Library/Application Support/Bitcoin```."
   ]
  },
  {
   "cell_type": "markdown",
   "metadata": {},
   "source": [
    "#### Create private keys and bech32 addresses for the sender, receiver, and change outputs."
   ]
  },
  {
   "cell_type": "code",
   "execution_count": 16,
   "metadata": {},
   "outputs": [
    {
     "name": "stdout",
     "output_type": "stream",
     "text": [
      "sender's p2wpkh address: bcrt1ql3e9pgs3mmwuwrh95fecme0s0qtn2880hlwwpw\n",
      "sender's change p2wpkh address: bcrt1q2vfxp232rx0z9rzn0hay9jptagk8c86ddphpjv\n",
      "receiver's p2wpkh address: bcrt1q80pg6mvjmyrnld0r4h6gz7274azxhnhdf7k5gu\n"
     ]
    }
   ],
   "source": [
    "sender_privkey = bytes.fromhex(\"1111111111111111111111111111111111111111111111111111111111111111\")\n",
    "sender_pubkey = privkey_to_pubkey(sender_privkey)\n",
    "sender_p2wpkh_addr = pk_to_p2wpkh(sender_pubkey, network = \"regtest\")\n",
    "print(\"sender's p2wpkh address: \" + sender_p2wpkh_addr)\n",
    "\n",
    "change_privkey = bytes.fromhex(\"2222222222222222222222222222222222222222222222222222222222222222\")\n",
    "change_pubkey = privkey_to_pubkey(change_privkey)\n",
    "change_p2wpkh_addr = pk_to_p2wpkh(change_pubkey, network = \"regtest\")\n",
    "print(\"sender's change p2wpkh address: \" + change_p2wpkh_addr)\n",
    "\n",
    "receiver_privkey = bytes.fromhex(\"3333333333333333333333333333333333333333333333333333333333333333\")\n",
    "receiver_pubkey = privkey_to_pubkey(receiver_privkey)\n",
    "receiver_p2wpkh_addr = pk_to_p2wpkh(receiver_pubkey, network = \"regtest\")\n",
    "print(\"receiver's p2wpkh address: \" + receiver_p2wpkh_addr)"
   ]
  },
  {
   "cell_type": "markdown",
   "metadata": {},
   "source": [
    "#### Start up regtest mode, delete any regtest network history so we are starting from scratch. Mine 101 blocks so that we can spend some bitcoin."
   ]
  },
  {
   "cell_type": "code",
   "execution_count": 21,
   "metadata": {
    "code_folding": []
   },
   "outputs": [
    {
     "name": "stdout",
     "output_type": "stream",
     "text": [
      "blockcount: 101\n"
     ]
    }
   ],
   "source": [
    "# Make sure bitcoind is not already running\n",
    "os.system(\"bitcoin-cli -regtest stop\")\n",
    "time.sleep(2) \n",
    "\n",
    "# Delete any previous files to restart regtest\n",
    "os.system(\"rm -rfv $HOME/Library/Application\\ Support/Bitcoin/regtest/\")\n",
    "\n",
    "# start up bitcoind in regtest mode\n",
    "os.system(\"bitcoind -regtest -daemon -fallbackfee=0.0002\")\n",
    "time.sleep(1.5)\n",
    "\n",
    "# generate 101 blocks so we can fund transactions\n",
    "address = subprocess.getoutput(\"bitcoin-cli -regtest getnewaddress\")\n",
    "result = subprocess.getoutput(\"bitcoin-cli -regtest generatetoaddress 101 {addr}\".format(addr=address))\n",
    "blockcount = subprocess.getoutput(\"bitcoin-cli -regtest getblockcount\")\n",
    "\n",
    "# Check that we were able to mine 101 blocks\n",
    "print(\"blockcount: \" + str(blockcount))"
   ]
  },
  {
   "cell_type": "markdown",
   "metadata": {},
   "source": [
    "#### Fund the 'sender' with 2.001 btc (0.001 btc is for the next tx fee)"
   ]
  },
  {
   "cell_type": "code",
   "execution_count": 22,
   "metadata": {},
   "outputs": [
    {
     "name": "stdout",
     "output_type": "stream",
     "text": [
      "7f6956d404090f41fcb61b22b5b658517933cc31a3e8a932fa0372b43fe62646\n"
     ]
    }
   ],
   "source": [
    "txid_1 = subprocess.getoutput(\"bitcoin-cli -regtest sendtoaddress \" + sender_p2wpkh_addr + \" 2.001\")\n",
    "print(txid_1)"
   ]
  },
  {
   "cell_type": "markdown",
   "metadata": {},
   "source": [
    "#### Find which output index the btc was sent to"
   ]
  },
  {
   "cell_type": "code",
   "execution_count": 24,
   "metadata": {},
   "outputs": [
    {
     "name": "stdout",
     "output_type": "stream",
     "text": [
      "{\n",
      "  \"txid\": \"7f6956d404090f41fcb61b22b5b658517933cc31a3e8a932fa0372b43fe62646\",\n",
      "  \"hash\": \"18c9089da6cf1f3dcb5aa0ea7df6a090853f7d9575b6199fac8fd1fa3bde1063\",\n",
      "  \"version\": 2,\n",
      "  \"size\": 222,\n",
      "  \"vsize\": 141,\n",
      "  \"weight\": 561,\n",
      "  \"locktime\": 101,\n",
      "  \"vin\": [\n",
      "    {\n",
      "      \"txid\": \"dd4be5a6c1346561cefb6d9f499422acf0973f0d8726af4d383a132fafd90b83\",\n",
      "      \"vout\": 0,\n",
      "      \"scriptSig\": {\n",
      "        \"asm\": \"\",\n",
      "        \"hex\": \"\"\n",
      "      },\n",
      "      \"txinwitness\": [\n",
      "        \"3044022038467d12104ecc96b8f645dbd746cf50673f5247ecb1219014e1410c96e153270220159c718d639129c63686dfd633fe18940f83de610bdf381e3f2227e2304c635601\",\n",
      "        \"02130f54a11e76e99e4cb1d8b7674696da608368d3872c9a8867f16676f558e599\"\n",
      "      ],\n",
      "      \"sequence\": 4294967294\n",
      "    }\n",
      "  ],\n",
      "  \"vout\": [\n",
      "    {\n",
      "      \"value\": 47.99897180,\n",
      "      \"n\": 0,\n",
      "      \"scriptPubKey\": {\n",
      "        \"asm\": \"0 4bb5e1832d80176ea2aba7a56662a7e3544b27ec\",\n",
      "        \"hex\": \"00144bb5e1832d80176ea2aba7a56662a7e3544b27ec\",\n",
      "        \"reqSigs\": 1,\n",
      "        \"type\": \"witness_v0_keyhash\",\n",
      "        \"addresses\": [\n",
      "          \"bcrt1qfw67rqedsqtkag4t57jkvc48ud2ykflvd3easj\"\n",
      "        ]\n",
      "      }\n",
      "    },\n",
      "    {\n",
      "      \"value\": 2.00100000,\n",
      "      \"n\": 1,\n",
      "      \"scriptPubKey\": {\n",
      "        \"asm\": \"0 fc7250a211deddc70ee5a2738de5f07817351cef\",\n",
      "        \"hex\": \"0014fc7250a211deddc70ee5a2738de5f07817351cef\",\n",
      "        \"reqSigs\": 1,\n",
      "        \"type\": \"witness_v0_keyhash\",\n",
      "        \"addresses\": [\n",
      "          \"bcrt1ql3e9pgs3mmwuwrh95fecme0s0qtn2880hlwwpw\"\n",
      "        ]\n",
      "      }\n",
      "    }\n",
      "  ]\n",
      "}\n",
      "index: 1\n"
     ]
    }
   ],
   "source": [
    "raw_tx = subprocess.getoutput(\"bitcoin-cli -regtest getrawtransaction \" + txid_1)\n",
    "# raw_tx\n",
    "decoded = subprocess.getoutput(\"bitcoin-cli -regtest decoderawtransaction \" + raw_tx)\n",
    "json = json.loads(decoded)\n",
    "print(decoded)\n",
    "\n",
    "if json[\"vout\"][0][\"scriptPubKey\"][\"addresses\"][0] == sender_p2wpkh_addr:\n",
    "    index = 0\n",
    "else:\n",
    "    index = 1\n",
    "print(\"index: \" + str(index))"
   ]
  },
  {
   "cell_type": "markdown",
   "metadata": {},
   "source": [
    "#### Mine a block so that the funding tx gets confirmed"
   ]
  },
  {
   "cell_type": "code",
   "execution_count": 25,
   "metadata": {},
   "outputs": [],
   "source": [
    "subprocess.getoutput(\"bitcoin-cli -regtest generatetoaddress 1 {addr}\".format(addr=address));"
   ]
  },
  {
   "cell_type": "markdown",
   "metadata": {},
   "source": [
    "#### Generate the P2WPKH to P2WPKH tx using our script."
   ]
  },
  {
   "cell_type": "code",
   "execution_count": 26,
   "metadata": {},
   "outputs": [
    {
     "name": "stdout",
     "output_type": "stream",
     "text": [
      "020000000001014626e63fb47203fa32a9e8a331cc33795158b6b5221bb6fc410f0904d456697f0100000000ffffffff0280d1f008000000001600143bc28d6d92d9073fb5e3adf481795eaf446bceed80f0fa0200000000160014531260aa2a199e228c537dfa42c82bea2c7c1f4d02473044022043f99ea2bbc1b71c2c6ef1c05aca61449be9ecbc4524150fb73327ae090d3d08022002e333a57636669a0de0a3dcaa5b407500adf882208cacf71cce5d5f0d3d90030121034f355bdcb7cc0af728ef3cceb9615d90684bb5b2ca5f859ab0f0b704075871aa00000000\n"
     ]
    }
   ],
   "source": [
    "new_tx = subprocess.getoutput(\"python P2WPKH_to_P2WPKH.py\" \n",
    "                        + \" --txid_str \" + txid_1\n",
    "                        + \" --index \" + str(index)\n",
    "                        + \" --input_amount_btc \" + \"2.001\"\n",
    "                        + \" --privkey \" + sender_privkey.hex()\n",
    "                        + \" --output1_pubkey \" + receiver_pubkey.hex()\n",
    "                        + \" --output1_value_btc \" + \"1.5\"\n",
    "                        + \" --output2_pubkey \" + change_pubkey.hex()\n",
    "                        + \" --output2_value_btc \" + \"0.5\")\n",
    "print(new_tx)"
   ]
  },
  {
   "cell_type": "markdown",
   "metadata": {},
   "source": [
    "#### Broadcase the transaction (on regtest mode). If we get back a txid (32 byte hash), then it means the tx was successfully broadcast!"
   ]
  },
  {
   "cell_type": "code",
   "execution_count": 27,
   "metadata": {},
   "outputs": [
    {
     "name": "stdout",
     "output_type": "stream",
     "text": [
      "314be179c321ea4fd43d2477b625c425ff68e459e7301d0ad19d50249094a4f1\n"
     ]
    }
   ],
   "source": [
    "new_tx_txid = subprocess.getoutput(\"bitcoin-cli -regtest sendrawtransaction \" + new_tx)\n",
    "print(new_tx_txid)"
   ]
  },
  {
   "cell_type": "markdown",
   "metadata": {},
   "source": [
    "#### We can search for the raw transaction in the blockchain using the command ```getrawtransaction``` and the txid."
   ]
  },
  {
   "cell_type": "code",
   "execution_count": 29,
   "metadata": {
    "scrolled": false
   },
   "outputs": [
    {
     "name": "stdout",
     "output_type": "stream",
     "text": [
      "020000000001014626e63fb47203fa32a9e8a331cc33795158b6b5221bb6fc410f0904d456697f0100000000ffffffff0280d1f008000000001600143bc28d6d92d9073fb5e3adf481795eaf446bceed80f0fa0200000000160014531260aa2a199e228c537dfa42c82bea2c7c1f4d02473044022043f99ea2bbc1b71c2c6ef1c05aca61449be9ecbc4524150fb73327ae090d3d08022002e333a57636669a0de0a3dcaa5b407500adf882208cacf71cce5d5f0d3d90030121034f355bdcb7cc0af728ef3cceb9615d90684bb5b2ca5f859ab0f0b704075871aa00000000\n"
     ]
    }
   ],
   "source": [
    "raw_broadcasted_tx = subprocess.getoutput(\"bitcoin-cli -regtest getrawtransaction \" + new_tx_txid)\n",
    "print(raw_broadcasted_tx)"
   ]
  },
  {
   "cell_type": "markdown",
   "metadata": {},
   "source": [
    "#### We can decode the serialized transaction using ```decoderawtransction```. Notice that our output addresses match the change and receiver addresses from earlier."
   ]
  },
  {
   "cell_type": "code",
   "execution_count": 30,
   "metadata": {},
   "outputs": [
    {
     "name": "stdout",
     "output_type": "stream",
     "text": [
      "receiver's p2wpkh address: bcrt1q80pg6mvjmyrnld0r4h6gz7274azxhnhdf7k5gu\n",
      "sender's change p2wpkh address: bcrt1q2vfxp232rx0z9rzn0hay9jptagk8c86ddphpjv\n"
     ]
    }
   ],
   "source": [
    "print(\"receiver's p2wpkh address: \" + receiver_p2wpkh_addr)\n",
    "print(\"sender's change p2wpkh address: \" + change_p2wpkh_addr)"
   ]
  },
  {
   "cell_type": "code",
   "execution_count": 31,
   "metadata": {},
   "outputs": [
    {
     "name": "stdout",
     "output_type": "stream",
     "text": [
      "{\n",
      "  \"txid\": \"314be179c321ea4fd43d2477b625c425ff68e459e7301d0ad19d50249094a4f1\",\n",
      "  \"hash\": \"656616282ea4b3317b7b08f5980e19611707e17dc0c6fc0621df9eeae9500b43\",\n",
      "  \"version\": 2,\n",
      "  \"size\": 222,\n",
      "  \"vsize\": 141,\n",
      "  \"weight\": 561,\n",
      "  \"locktime\": 0,\n",
      "  \"vin\": [\n",
      "    {\n",
      "      \"txid\": \"7f6956d404090f41fcb61b22b5b658517933cc31a3e8a932fa0372b43fe62646\",\n",
      "      \"vout\": 1,\n",
      "      \"scriptSig\": {\n",
      "        \"asm\": \"\",\n",
      "        \"hex\": \"\"\n",
      "      },\n",
      "      \"txinwitness\": [\n",
      "        \"3044022043f99ea2bbc1b71c2c6ef1c05aca61449be9ecbc4524150fb73327ae090d3d08022002e333a57636669a0de0a3dcaa5b407500adf882208cacf71cce5d5f0d3d900301\",\n",
      "        \"034f355bdcb7cc0af728ef3cceb9615d90684bb5b2ca5f859ab0f0b704075871aa\"\n",
      "      ],\n",
      "      \"sequence\": 4294967295\n",
      "    }\n",
      "  ],\n",
      "  \"vout\": [\n",
      "    {\n",
      "      \"value\": 1.50000000,\n",
      "      \"n\": 0,\n",
      "      \"scriptPubKey\": {\n",
      "        \"asm\": \"0 3bc28d6d92d9073fb5e3adf481795eaf446bceed\",\n",
      "        \"hex\": \"00143bc28d6d92d9073fb5e3adf481795eaf446bceed\",\n",
      "        \"reqSigs\": 1,\n",
      "        \"type\": \"witness_v0_keyhash\",\n",
      "        \"addresses\": [\n",
      "          \"bcrt1q80pg6mvjmyrnld0r4h6gz7274azxhnhdf7k5gu\"\n",
      "        ]\n",
      "      }\n",
      "    },\n",
      "    {\n",
      "      \"value\": 0.50000000,\n",
      "      \"n\": 1,\n",
      "      \"scriptPubKey\": {\n",
      "        \"asm\": \"0 531260aa2a199e228c537dfa42c82bea2c7c1f4d\",\n",
      "        \"hex\": \"0014531260aa2a199e228c537dfa42c82bea2c7c1f4d\",\n",
      "        \"reqSigs\": 1,\n",
      "        \"type\": \"witness_v0_keyhash\",\n",
      "        \"addresses\": [\n",
      "          \"bcrt1q2vfxp232rx0z9rzn0hay9jptagk8c86ddphpjv\"\n",
      "        ]\n",
      "      }\n",
      "    }\n",
      "  ]\n",
      "}\n"
     ]
    }
   ],
   "source": [
    "decoded = subprocess.getoutput(\"bitcoin-cli -regtest decoderawtransaction \" + raw_broadcasted_tx)\n",
    "print(decoded)"
   ]
  },
  {
   "cell_type": "markdown",
   "metadata": {},
   "source": [
    "#### Stop bitcoin core running in the background."
   ]
  },
  {
   "cell_type": "code",
   "execution_count": 32,
   "metadata": {},
   "outputs": [
    {
     "data": {
      "text/plain": [
       "'Bitcoin Core stopping'"
      ]
     },
     "execution_count": 32,
     "metadata": {},
     "output_type": "execute_result"
    }
   ],
   "source": [
    "subprocess.getoutput(\"bitcoin-cli -regtest stop\")"
   ]
  },
  {
   "cell_type": "code",
   "execution_count": null,
   "metadata": {},
   "outputs": [],
   "source": []
  }
 ],
 "metadata": {
  "kernelspec": {
   "display_name": "Python 3",
   "language": "python",
   "name": "python3"
  },
  "language_info": {
   "codemirror_mode": {
    "name": "ipython",
    "version": 3
   },
   "file_extension": ".py",
   "mimetype": "text/x-python",
   "name": "python",
   "nbconvert_exporter": "python",
   "pygments_lexer": "ipython3",
   "version": "3.7.0"
  }
 },
 "nbformat": 4,
 "nbformat_minor": 2
}
